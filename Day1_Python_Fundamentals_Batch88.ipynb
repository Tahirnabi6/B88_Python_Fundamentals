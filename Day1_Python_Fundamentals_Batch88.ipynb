{
 "cells": [
  {
   "cell_type": "code",
   "execution_count": 1,
   "id": "6698ae58-bd02-4f2f-b2b5-92e68769e537",
   "metadata": {},
   "outputs": [
    {
     "name": "stdout",
     "output_type": "stream",
     "text": [
      "Hello all welcome to the python programming world!\n"
     ]
    }
   ],
   "source": [
    "print(\"Hello all welcome to the python programming world!\")    #First Python Program."
   ]
  },
  {
   "cell_type": "code",
   "execution_count": null,
   "id": "5aaba6d2-1055-4df2-a2b5-513b866a150e",
   "metadata": {},
   "outputs": [],
   "source": []
  }
 ],
 "metadata": {
  "kernelspec": {
   "display_name": "Python 3 (ipykernel)",
   "language": "python",
   "name": "python3"
  },
  "language_info": {
   "codemirror_mode": {
    "name": "ipython",
    "version": 3
   },
   "file_extension": ".py",
   "mimetype": "text/x-python",
   "name": "python",
   "nbconvert_exporter": "python",
   "pygments_lexer": "ipython3",
   "version": "3.13.5"
  }
 },
 "nbformat": 4,
 "nbformat_minor": 5
}
